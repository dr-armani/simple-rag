{
  "nbformat": 4,
  "nbformat_minor": 0,
  "metadata": {
    "colab": {
      "provenance": []
    },
    "kernelspec": {
      "name": "python3",
      "display_name": "Python 3"
    },
    "language_info": {
      "name": "python"
    }
  },
  "cells": [
    {
      "cell_type": "markdown",
      "source": [
        "# **Retrieval Augmented Generation**\n",
        "\n",
        "Developed by Daniel Armani, PhD (August 2025)"
      ],
      "metadata": {
        "id": "jkZJTIlvdwG4"
      }
    },
    {
      "cell_type": "code",
      "metadata": {
        "colab": {
          "base_uri": "https://localhost:8080/"
        },
        "collapsed": true,
        "id": "24c3a9a5",
        "outputId": "e063825a-d2fc-4b63-aab1-c0618376d6bf"
      },
      "source": [
        "!pip install -U langchain-google-genai langchain-community langchain-huggingface sentence-transformers chromadb pypdf"
      ],
      "execution_count": 5,
      "outputs": [
        {
          "output_type": "stream",
          "name": "stdout",
          "text": [
            "Requirement already satisfied: langchain-google-genai in /usr/local/lib/python3.12/dist-packages (2.1.10)\n",
            "Requirement already satisfied: langchain-community in /usr/local/lib/python3.12/dist-packages (0.3.29)\n",
            "Requirement already satisfied: langchain-huggingface in /usr/local/lib/python3.12/dist-packages (0.3.1)\n",
            "Requirement already satisfied: sentence-transformers in /usr/local/lib/python3.12/dist-packages (5.1.0)\n",
            "Requirement already satisfied: chromadb in /usr/local/lib/python3.12/dist-packages (1.0.20)\n",
            "Requirement already satisfied: pypdf in /usr/local/lib/python3.12/dist-packages (6.0.0)\n",
            "Requirement already satisfied: filetype<2.0.0,>=1.2.0 in /usr/local/lib/python3.12/dist-packages (from langchain-google-genai) (1.2.0)\n",
            "Requirement already satisfied: google-ai-generativelanguage<0.7.0,>=0.6.18 in /usr/local/lib/python3.12/dist-packages (from langchain-google-genai) (0.6.18)\n",
            "Requirement already satisfied: langchain-core<0.4.0,>=0.3.75 in /usr/local/lib/python3.12/dist-packages (from langchain-google-genai) (0.3.75)\n",
            "Requirement already satisfied: pydantic<3,>=2 in /usr/local/lib/python3.12/dist-packages (from langchain-google-genai) (2.11.7)\n",
            "Requirement already satisfied: langchain<2.0.0,>=0.3.27 in /usr/local/lib/python3.12/dist-packages (from langchain-community) (0.3.27)\n",
            "Requirement already satisfied: SQLAlchemy<3,>=1.4 in /usr/local/lib/python3.12/dist-packages (from langchain-community) (2.0.43)\n",
            "Requirement already satisfied: requests<3,>=2.32.5 in /usr/local/lib/python3.12/dist-packages (from langchain-community) (2.32.5)\n",
            "Requirement already satisfied: PyYAML>=5.3 in /usr/local/lib/python3.12/dist-packages (from langchain-community) (6.0.2)\n",
            "Requirement already satisfied: aiohttp<4.0.0,>=3.8.3 in /usr/local/lib/python3.12/dist-packages (from langchain-community) (3.12.15)\n",
            "Requirement already satisfied: tenacity!=8.4.0,<10,>=8.1.0 in /usr/local/lib/python3.12/dist-packages (from langchain-community) (8.5.0)\n",
            "Requirement already satisfied: dataclasses-json<0.7,>=0.6.7 in /usr/local/lib/python3.12/dist-packages (from langchain-community) (0.6.7)\n",
            "Requirement already satisfied: pydantic-settings<3.0.0,>=2.10.1 in /usr/local/lib/python3.12/dist-packages (from langchain-community) (2.10.1)\n",
            "Requirement already satisfied: langsmith>=0.1.125 in /usr/local/lib/python3.12/dist-packages (from langchain-community) (0.4.14)\n",
            "Requirement already satisfied: httpx-sse<1.0.0,>=0.4.0 in /usr/local/lib/python3.12/dist-packages (from langchain-community) (0.4.1)\n",
            "Requirement already satisfied: numpy>=1.26.2 in /usr/local/lib/python3.12/dist-packages (from langchain-community) (2.0.2)\n",
            "Requirement already satisfied: tokenizers>=0.19.1 in /usr/local/lib/python3.12/dist-packages (from langchain-huggingface) (0.21.4)\n",
            "Requirement already satisfied: huggingface-hub>=0.33.4 in /usr/local/lib/python3.12/dist-packages (from langchain-huggingface) (0.34.4)\n",
            "Requirement already satisfied: transformers<5.0.0,>=4.41.0 in /usr/local/lib/python3.12/dist-packages (from sentence-transformers) (4.55.2)\n",
            "Requirement already satisfied: tqdm in /usr/local/lib/python3.12/dist-packages (from sentence-transformers) (4.67.1)\n",
            "Requirement already satisfied: torch>=1.11.0 in /usr/local/lib/python3.12/dist-packages (from sentence-transformers) (2.8.0+cu126)\n",
            "Requirement already satisfied: scikit-learn in /usr/local/lib/python3.12/dist-packages (from sentence-transformers) (1.6.1)\n",
            "Requirement already satisfied: scipy in /usr/local/lib/python3.12/dist-packages (from sentence-transformers) (1.16.1)\n",
            "Requirement already satisfied: Pillow in /usr/local/lib/python3.12/dist-packages (from sentence-transformers) (11.3.0)\n",
            "Requirement already satisfied: typing_extensions>=4.5.0 in /usr/local/lib/python3.12/dist-packages (from sentence-transformers) (4.14.1)\n",
            "Requirement already satisfied: build>=1.0.3 in /usr/local/lib/python3.12/dist-packages (from chromadb) (1.3.0)\n",
            "Requirement already satisfied: pybase64>=1.4.1 in /usr/local/lib/python3.12/dist-packages (from chromadb) (1.4.2)\n",
            "Requirement already satisfied: uvicorn>=0.18.3 in /usr/local/lib/python3.12/dist-packages (from uvicorn[standard]>=0.18.3->chromadb) (0.35.0)\n",
            "Requirement already satisfied: posthog<6.0.0,>=2.4.0 in /usr/local/lib/python3.12/dist-packages (from chromadb) (5.4.0)\n",
            "Requirement already satisfied: onnxruntime>=1.14.1 in /usr/local/lib/python3.12/dist-packages (from chromadb) (1.22.1)\n",
            "Requirement already satisfied: opentelemetry-api>=1.2.0 in /usr/local/lib/python3.12/dist-packages (from chromadb) (1.36.0)\n",
            "Requirement already satisfied: opentelemetry-exporter-otlp-proto-grpc>=1.2.0 in /usr/local/lib/python3.12/dist-packages (from chromadb) (1.36.0)\n",
            "Requirement already satisfied: opentelemetry-sdk>=1.2.0 in /usr/local/lib/python3.12/dist-packages (from chromadb) (1.36.0)\n",
            "Requirement already satisfied: pypika>=0.48.9 in /usr/local/lib/python3.12/dist-packages (from chromadb) (0.48.9)\n",
            "Requirement already satisfied: overrides>=7.3.1 in /usr/local/lib/python3.12/dist-packages (from chromadb) (7.7.0)\n",
            "Requirement already satisfied: importlib-resources in /usr/local/lib/python3.12/dist-packages (from chromadb) (6.5.2)\n",
            "Requirement already satisfied: grpcio>=1.58.0 in /usr/local/lib/python3.12/dist-packages (from chromadb) (1.74.0)\n",
            "Requirement already satisfied: bcrypt>=4.0.1 in /usr/local/lib/python3.12/dist-packages (from chromadb) (4.3.0)\n",
            "Requirement already satisfied: typer>=0.9.0 in /usr/local/lib/python3.12/dist-packages (from chromadb) (0.16.0)\n",
            "Requirement already satisfied: kubernetes>=28.1.0 in /usr/local/lib/python3.12/dist-packages (from chromadb) (33.1.0)\n",
            "Requirement already satisfied: mmh3>=4.0.1 in /usr/local/lib/python3.12/dist-packages (from chromadb) (5.2.0)\n",
            "Requirement already satisfied: orjson>=3.9.12 in /usr/local/lib/python3.12/dist-packages (from chromadb) (3.11.2)\n",
            "Requirement already satisfied: httpx>=0.27.0 in /usr/local/lib/python3.12/dist-packages (from chromadb) (0.28.1)\n",
            "Requirement already satisfied: rich>=10.11.0 in /usr/local/lib/python3.12/dist-packages (from chromadb) (13.9.4)\n",
            "Requirement already satisfied: jsonschema>=4.19.0 in /usr/local/lib/python3.12/dist-packages (from chromadb) (4.25.1)\n",
            "Requirement already satisfied: aiohappyeyeballs>=2.5.0 in /usr/local/lib/python3.12/dist-packages (from aiohttp<4.0.0,>=3.8.3->langchain-community) (2.6.1)\n",
            "Requirement already satisfied: aiosignal>=1.4.0 in /usr/local/lib/python3.12/dist-packages (from aiohttp<4.0.0,>=3.8.3->langchain-community) (1.4.0)\n",
            "Requirement already satisfied: attrs>=17.3.0 in /usr/local/lib/python3.12/dist-packages (from aiohttp<4.0.0,>=3.8.3->langchain-community) (25.3.0)\n",
            "Requirement already satisfied: frozenlist>=1.1.1 in /usr/local/lib/python3.12/dist-packages (from aiohttp<4.0.0,>=3.8.3->langchain-community) (1.7.0)\n",
            "Requirement already satisfied: multidict<7.0,>=4.5 in /usr/local/lib/python3.12/dist-packages (from aiohttp<4.0.0,>=3.8.3->langchain-community) (6.6.4)\n",
            "Requirement already satisfied: propcache>=0.2.0 in /usr/local/lib/python3.12/dist-packages (from aiohttp<4.0.0,>=3.8.3->langchain-community) (0.3.2)\n",
            "Requirement already satisfied: yarl<2.0,>=1.17.0 in /usr/local/lib/python3.12/dist-packages (from aiohttp<4.0.0,>=3.8.3->langchain-community) (1.20.1)\n",
            "Requirement already satisfied: packaging>=19.1 in /usr/local/lib/python3.12/dist-packages (from build>=1.0.3->chromadb) (25.0)\n",
            "Requirement already satisfied: pyproject_hooks in /usr/local/lib/python3.12/dist-packages (from build>=1.0.3->chromadb) (1.2.0)\n",
            "Requirement already satisfied: marshmallow<4.0.0,>=3.18.0 in /usr/local/lib/python3.12/dist-packages (from dataclasses-json<0.7,>=0.6.7->langchain-community) (3.26.1)\n",
            "Requirement already satisfied: typing-inspect<1,>=0.4.0 in /usr/local/lib/python3.12/dist-packages (from dataclasses-json<0.7,>=0.6.7->langchain-community) (0.9.0)\n",
            "Requirement already satisfied: google-api-core!=2.0.*,!=2.1.*,!=2.10.*,!=2.2.*,!=2.3.*,!=2.4.*,!=2.5.*,!=2.6.*,!=2.7.*,!=2.8.*,!=2.9.*,<3.0.0,>=1.34.1 in /usr/local/lib/python3.12/dist-packages (from google-api-core[grpc]!=2.0.*,!=2.1.*,!=2.10.*,!=2.2.*,!=2.3.*,!=2.4.*,!=2.5.*,!=2.6.*,!=2.7.*,!=2.8.*,!=2.9.*,<3.0.0,>=1.34.1->google-ai-generativelanguage<0.7.0,>=0.6.18->langchain-google-genai) (2.25.1)\n",
            "Requirement already satisfied: google-auth!=2.24.0,!=2.25.0,<3.0.0,>=2.14.1 in /usr/local/lib/python3.12/dist-packages (from google-ai-generativelanguage<0.7.0,>=0.6.18->langchain-google-genai) (2.38.0)\n",
            "Requirement already satisfied: proto-plus<2.0.0,>=1.22.3 in /usr/local/lib/python3.12/dist-packages (from google-ai-generativelanguage<0.7.0,>=0.6.18->langchain-google-genai) (1.26.1)\n",
            "Requirement already satisfied: protobuf!=4.21.0,!=4.21.1,!=4.21.2,!=4.21.3,!=4.21.4,!=4.21.5,<7.0.0,>=3.20.2 in /usr/local/lib/python3.12/dist-packages (from google-ai-generativelanguage<0.7.0,>=0.6.18->langchain-google-genai) (5.29.5)\n",
            "Requirement already satisfied: anyio in /usr/local/lib/python3.12/dist-packages (from httpx>=0.27.0->chromadb) (4.10.0)\n",
            "Requirement already satisfied: certifi in /usr/local/lib/python3.12/dist-packages (from httpx>=0.27.0->chromadb) (2025.8.3)\n",
            "Requirement already satisfied: httpcore==1.* in /usr/local/lib/python3.12/dist-packages (from httpx>=0.27.0->chromadb) (1.0.9)\n",
            "Requirement already satisfied: idna in /usr/local/lib/python3.12/dist-packages (from httpx>=0.27.0->chromadb) (3.10)\n",
            "Requirement already satisfied: h11>=0.16 in /usr/local/lib/python3.12/dist-packages (from httpcore==1.*->httpx>=0.27.0->chromadb) (0.16.0)\n",
            "Requirement already satisfied: filelock in /usr/local/lib/python3.12/dist-packages (from huggingface-hub>=0.33.4->langchain-huggingface) (3.19.1)\n",
            "Requirement already satisfied: fsspec>=2023.5.0 in /usr/local/lib/python3.12/dist-packages (from huggingface-hub>=0.33.4->langchain-huggingface) (2025.3.0)\n",
            "Requirement already satisfied: hf-xet<2.0.0,>=1.1.3 in /usr/local/lib/python3.12/dist-packages (from huggingface-hub>=0.33.4->langchain-huggingface) (1.1.7)\n",
            "Requirement already satisfied: jsonschema-specifications>=2023.03.6 in /usr/local/lib/python3.12/dist-packages (from jsonschema>=4.19.0->chromadb) (2025.4.1)\n",
            "Requirement already satisfied: referencing>=0.28.4 in /usr/local/lib/python3.12/dist-packages (from jsonschema>=4.19.0->chromadb) (0.36.2)\n",
            "Requirement already satisfied: rpds-py>=0.7.1 in /usr/local/lib/python3.12/dist-packages (from jsonschema>=4.19.0->chromadb) (0.27.0)\n",
            "Requirement already satisfied: six>=1.9.0 in /usr/local/lib/python3.12/dist-packages (from kubernetes>=28.1.0->chromadb) (1.17.0)\n",
            "Requirement already satisfied: python-dateutil>=2.5.3 in /usr/local/lib/python3.12/dist-packages (from kubernetes>=28.1.0->chromadb) (2.9.0.post0)\n",
            "Requirement already satisfied: websocket-client!=0.40.0,!=0.41.*,!=0.42.*,>=0.32.0 in /usr/local/lib/python3.12/dist-packages (from kubernetes>=28.1.0->chromadb) (1.8.0)\n",
            "Requirement already satisfied: requests-oauthlib in /usr/local/lib/python3.12/dist-packages (from kubernetes>=28.1.0->chromadb) (2.0.0)\n",
            "Requirement already satisfied: oauthlib>=3.2.2 in /usr/local/lib/python3.12/dist-packages (from kubernetes>=28.1.0->chromadb) (3.3.1)\n",
            "Requirement already satisfied: urllib3>=1.24.2 in /usr/local/lib/python3.12/dist-packages (from kubernetes>=28.1.0->chromadb) (2.5.0)\n",
            "Requirement already satisfied: durationpy>=0.7 in /usr/local/lib/python3.12/dist-packages (from kubernetes>=28.1.0->chromadb) (0.10)\n",
            "Requirement already satisfied: langchain-text-splitters<1.0.0,>=0.3.9 in /usr/local/lib/python3.12/dist-packages (from langchain<2.0.0,>=0.3.27->langchain-community) (0.3.9)\n",
            "Requirement already satisfied: jsonpatch<2.0,>=1.33 in /usr/local/lib/python3.12/dist-packages (from langchain-core<0.4.0,>=0.3.75->langchain-google-genai) (1.33)\n",
            "Requirement already satisfied: requests-toolbelt>=1.0.0 in /usr/local/lib/python3.12/dist-packages (from langsmith>=0.1.125->langchain-community) (1.0.0)\n",
            "Requirement already satisfied: zstandard>=0.23.0 in /usr/local/lib/python3.12/dist-packages (from langsmith>=0.1.125->langchain-community) (0.24.0)\n",
            "Requirement already satisfied: coloredlogs in /usr/local/lib/python3.12/dist-packages (from onnxruntime>=1.14.1->chromadb) (15.0.1)\n",
            "Requirement already satisfied: flatbuffers in /usr/local/lib/python3.12/dist-packages (from onnxruntime>=1.14.1->chromadb) (25.2.10)\n",
            "Requirement already satisfied: sympy in /usr/local/lib/python3.12/dist-packages (from onnxruntime>=1.14.1->chromadb) (1.13.3)\n",
            "Requirement already satisfied: importlib-metadata<8.8.0,>=6.0 in /usr/local/lib/python3.12/dist-packages (from opentelemetry-api>=1.2.0->chromadb) (8.7.0)\n",
            "Requirement already satisfied: googleapis-common-protos~=1.57 in /usr/local/lib/python3.12/dist-packages (from opentelemetry-exporter-otlp-proto-grpc>=1.2.0->chromadb) (1.70.0)\n",
            "Requirement already satisfied: opentelemetry-exporter-otlp-proto-common==1.36.0 in /usr/local/lib/python3.12/dist-packages (from opentelemetry-exporter-otlp-proto-grpc>=1.2.0->chromadb) (1.36.0)\n",
            "Requirement already satisfied: opentelemetry-proto==1.36.0 in /usr/local/lib/python3.12/dist-packages (from opentelemetry-exporter-otlp-proto-grpc>=1.2.0->chromadb) (1.36.0)\n",
            "Requirement already satisfied: opentelemetry-semantic-conventions==0.57b0 in /usr/local/lib/python3.12/dist-packages (from opentelemetry-sdk>=1.2.0->chromadb) (0.57b0)\n",
            "Requirement already satisfied: backoff>=1.10.0 in /usr/local/lib/python3.12/dist-packages (from posthog<6.0.0,>=2.4.0->chromadb) (2.2.1)\n",
            "Requirement already satisfied: distro>=1.5.0 in /usr/local/lib/python3.12/dist-packages (from posthog<6.0.0,>=2.4.0->chromadb) (1.9.0)\n",
            "Requirement already satisfied: annotated-types>=0.6.0 in /usr/local/lib/python3.12/dist-packages (from pydantic<3,>=2->langchain-google-genai) (0.7.0)\n",
            "Requirement already satisfied: pydantic-core==2.33.2 in /usr/local/lib/python3.12/dist-packages (from pydantic<3,>=2->langchain-google-genai) (2.33.2)\n",
            "Requirement already satisfied: typing-inspection>=0.4.0 in /usr/local/lib/python3.12/dist-packages (from pydantic<3,>=2->langchain-google-genai) (0.4.1)\n",
            "Requirement already satisfied: python-dotenv>=0.21.0 in /usr/local/lib/python3.12/dist-packages (from pydantic-settings<3.0.0,>=2.10.1->langchain-community) (1.1.1)\n",
            "Requirement already satisfied: charset_normalizer<4,>=2 in /usr/local/lib/python3.12/dist-packages (from requests<3,>=2.32.5->langchain-community) (3.4.3)\n",
            "Requirement already satisfied: markdown-it-py>=2.2.0 in /usr/local/lib/python3.12/dist-packages (from rich>=10.11.0->chromadb) (4.0.0)\n",
            "Requirement already satisfied: pygments<3.0.0,>=2.13.0 in /usr/local/lib/python3.12/dist-packages (from rich>=10.11.0->chromadb) (2.19.2)\n",
            "Requirement already satisfied: greenlet>=1 in /usr/local/lib/python3.12/dist-packages (from SQLAlchemy<3,>=1.4->langchain-community) (3.2.4)\n",
            "Requirement already satisfied: setuptools in /usr/local/lib/python3.12/dist-packages (from torch>=1.11.0->sentence-transformers) (75.2.0)\n",
            "Requirement already satisfied: networkx in /usr/local/lib/python3.12/dist-packages (from torch>=1.11.0->sentence-transformers) (3.5)\n",
            "Requirement already satisfied: jinja2 in /usr/local/lib/python3.12/dist-packages (from torch>=1.11.0->sentence-transformers) (3.1.6)\n",
            "Requirement already satisfied: nvidia-cuda-nvrtc-cu12==12.6.77 in /usr/local/lib/python3.12/dist-packages (from torch>=1.11.0->sentence-transformers) (12.6.77)\n",
            "Requirement already satisfied: nvidia-cuda-runtime-cu12==12.6.77 in /usr/local/lib/python3.12/dist-packages (from torch>=1.11.0->sentence-transformers) (12.6.77)\n",
            "Requirement already satisfied: nvidia-cuda-cupti-cu12==12.6.80 in /usr/local/lib/python3.12/dist-packages (from torch>=1.11.0->sentence-transformers) (12.6.80)\n",
            "Requirement already satisfied: nvidia-cudnn-cu12==9.10.2.21 in /usr/local/lib/python3.12/dist-packages (from torch>=1.11.0->sentence-transformers) (9.10.2.21)\n",
            "Requirement already satisfied: nvidia-cublas-cu12==12.6.4.1 in /usr/local/lib/python3.12/dist-packages (from torch>=1.11.0->sentence-transformers) (12.6.4.1)\n",
            "Requirement already satisfied: nvidia-cufft-cu12==11.3.0.4 in /usr/local/lib/python3.12/dist-packages (from torch>=1.11.0->sentence-transformers) (11.3.0.4)\n",
            "Requirement already satisfied: nvidia-curand-cu12==10.3.7.77 in /usr/local/lib/python3.12/dist-packages (from torch>=1.11.0->sentence-transformers) (10.3.7.77)\n",
            "Requirement already satisfied: nvidia-cusolver-cu12==11.7.1.2 in /usr/local/lib/python3.12/dist-packages (from torch>=1.11.0->sentence-transformers) (11.7.1.2)\n",
            "Requirement already satisfied: nvidia-cusparse-cu12==12.5.4.2 in /usr/local/lib/python3.12/dist-packages (from torch>=1.11.0->sentence-transformers) (12.5.4.2)\n",
            "Requirement already satisfied: nvidia-cusparselt-cu12==0.7.1 in /usr/local/lib/python3.12/dist-packages (from torch>=1.11.0->sentence-transformers) (0.7.1)\n",
            "Requirement already satisfied: nvidia-nccl-cu12==2.27.3 in /usr/local/lib/python3.12/dist-packages (from torch>=1.11.0->sentence-transformers) (2.27.3)\n",
            "Requirement already satisfied: nvidia-nvtx-cu12==12.6.77 in /usr/local/lib/python3.12/dist-packages (from torch>=1.11.0->sentence-transformers) (12.6.77)\n",
            "Requirement already satisfied: nvidia-nvjitlink-cu12==12.6.85 in /usr/local/lib/python3.12/dist-packages (from torch>=1.11.0->sentence-transformers) (12.6.85)\n",
            "Requirement already satisfied: nvidia-cufile-cu12==1.11.1.6 in /usr/local/lib/python3.12/dist-packages (from torch>=1.11.0->sentence-transformers) (1.11.1.6)\n",
            "Requirement already satisfied: triton==3.4.0 in /usr/local/lib/python3.12/dist-packages (from torch>=1.11.0->sentence-transformers) (3.4.0)\n",
            "Requirement already satisfied: regex!=2019.12.17 in /usr/local/lib/python3.12/dist-packages (from transformers<5.0.0,>=4.41.0->sentence-transformers) (2024.11.6)\n",
            "Requirement already satisfied: safetensors>=0.4.3 in /usr/local/lib/python3.12/dist-packages (from transformers<5.0.0,>=4.41.0->sentence-transformers) (0.6.2)\n",
            "Requirement already satisfied: click>=8.0.0 in /usr/local/lib/python3.12/dist-packages (from typer>=0.9.0->chromadb) (8.2.1)\n",
            "Requirement already satisfied: shellingham>=1.3.0 in /usr/local/lib/python3.12/dist-packages (from typer>=0.9.0->chromadb) (1.5.4)\n",
            "Requirement already satisfied: httptools>=0.6.3 in /usr/local/lib/python3.12/dist-packages (from uvicorn[standard]>=0.18.3->chromadb) (0.6.4)\n",
            "Requirement already satisfied: uvloop>=0.15.1 in /usr/local/lib/python3.12/dist-packages (from uvicorn[standard]>=0.18.3->chromadb) (0.21.0)\n",
            "Requirement already satisfied: watchfiles>=0.13 in /usr/local/lib/python3.12/dist-packages (from uvicorn[standard]>=0.18.3->chromadb) (1.1.0)\n",
            "Requirement already satisfied: websockets>=10.4 in /usr/local/lib/python3.12/dist-packages (from uvicorn[standard]>=0.18.3->chromadb) (15.0.1)\n",
            "Requirement already satisfied: joblib>=1.2.0 in /usr/local/lib/python3.12/dist-packages (from scikit-learn->sentence-transformers) (1.5.1)\n",
            "Requirement already satisfied: threadpoolctl>=3.1.0 in /usr/local/lib/python3.12/dist-packages (from scikit-learn->sentence-transformers) (3.6.0)\n",
            "Requirement already satisfied: grpcio-status<2.0.0,>=1.33.2 in /usr/local/lib/python3.12/dist-packages (from google-api-core[grpc]!=2.0.*,!=2.1.*,!=2.10.*,!=2.2.*,!=2.3.*,!=2.4.*,!=2.5.*,!=2.6.*,!=2.7.*,!=2.8.*,!=2.9.*,<3.0.0,>=1.34.1->google-ai-generativelanguage<0.7.0,>=0.6.18->langchain-google-genai) (1.71.2)\n",
            "Requirement already satisfied: cachetools<6.0,>=2.0.0 in /usr/local/lib/python3.12/dist-packages (from google-auth!=2.24.0,!=2.25.0,<3.0.0,>=2.14.1->google-ai-generativelanguage<0.7.0,>=0.6.18->langchain-google-genai) (5.5.2)\n",
            "Requirement already satisfied: pyasn1-modules>=0.2.1 in /usr/local/lib/python3.12/dist-packages (from google-auth!=2.24.0,!=2.25.0,<3.0.0,>=2.14.1->google-ai-generativelanguage<0.7.0,>=0.6.18->langchain-google-genai) (0.4.2)\n",
            "Requirement already satisfied: rsa<5,>=3.1.4 in /usr/local/lib/python3.12/dist-packages (from google-auth!=2.24.0,!=2.25.0,<3.0.0,>=2.14.1->google-ai-generativelanguage<0.7.0,>=0.6.18->langchain-google-genai) (4.9.1)\n",
            "Requirement already satisfied: zipp>=3.20 in /usr/local/lib/python3.12/dist-packages (from importlib-metadata<8.8.0,>=6.0->opentelemetry-api>=1.2.0->chromadb) (3.23.0)\n",
            "Requirement already satisfied: jsonpointer>=1.9 in /usr/local/lib/python3.12/dist-packages (from jsonpatch<2.0,>=1.33->langchain-core<0.4.0,>=0.3.75->langchain-google-genai) (3.0.0)\n",
            "Requirement already satisfied: mdurl~=0.1 in /usr/local/lib/python3.12/dist-packages (from markdown-it-py>=2.2.0->rich>=10.11.0->chromadb) (0.1.2)\n",
            "Requirement already satisfied: mpmath<1.4,>=1.1.0 in /usr/local/lib/python3.12/dist-packages (from sympy->onnxruntime>=1.14.1->chromadb) (1.3.0)\n",
            "Requirement already satisfied: mypy-extensions>=0.3.0 in /usr/local/lib/python3.12/dist-packages (from typing-inspect<1,>=0.4.0->dataclasses-json<0.7,>=0.6.7->langchain-community) (1.1.0)\n",
            "Requirement already satisfied: sniffio>=1.1 in /usr/local/lib/python3.12/dist-packages (from anyio->httpx>=0.27.0->chromadb) (1.3.1)\n",
            "Requirement already satisfied: humanfriendly>=9.1 in /usr/local/lib/python3.12/dist-packages (from coloredlogs->onnxruntime>=1.14.1->chromadb) (10.0)\n",
            "Requirement already satisfied: MarkupSafe>=2.0 in /usr/local/lib/python3.12/dist-packages (from jinja2->torch>=1.11.0->sentence-transformers) (3.0.2)\n",
            "Requirement already satisfied: pyasn1<0.7.0,>=0.6.1 in /usr/local/lib/python3.12/dist-packages (from pyasn1-modules>=0.2.1->google-auth!=2.24.0,!=2.25.0,<3.0.0,>=2.14.1->google-ai-generativelanguage<0.7.0,>=0.6.18->langchain-google-genai) (0.6.1)\n"
          ]
        }
      ]
    },
    {
      "cell_type": "code",
      "metadata": {
        "id": "f995b4f7",
        "collapsed": true,
        "colab": {
          "base_uri": "https://localhost:8080/"
        },
        "outputId": "0b53bbf7-1ac4-4ba5-f30f-959c88886101"
      },
      "source": [
        "# Set up the embedding model\n",
        "\n",
        "from langchain_huggingface import HuggingFaceEmbeddings\n",
        "\n",
        "embeddings = HuggingFaceEmbeddings(\n",
        "    model_name=\"sentence-transformers/all-mpnet-base-v2\",\n",
        "    model_kwargs={\"device\": \"cpu\"},\n",
        "    encode_kwargs={\"normalize_embeddings\": True}\n",
        ")\n",
        "\n",
        "print(\"Embedding is set up using HuggingFace.\")"
      ],
      "execution_count": 6,
      "outputs": [
        {
          "output_type": "stream",
          "name": "stdout",
          "text": [
            "Embedding is set up using HuggingFace.\n"
          ]
        }
      ]
    },
    {
      "cell_type": "code",
      "metadata": {
        "id": "c2039342",
        "colab": {
          "base_uri": "https://localhost:8080/"
        },
        "outputId": "38d4f212-b7a8-49db-f225-1e859fbbd1cc"
      },
      "source": [
        "# Set up the ingest function\n",
        "\n",
        "from langchain_community.vectorstores import Chroma\n",
        "from langchain_community.document_loaders import PyPDFLoader\n",
        "from langchain.text_splitter import RecursiveCharacterTextSplitter\n",
        "import os\n",
        "\n",
        "persist_directory = \"./chroma_db\"\n",
        "db = None\n",
        "\n",
        "def ingest(pdf_path: str):\n",
        "    global db\n",
        "    if not os.path.exists(pdf_path):\n",
        "        print(f\"Error: PDF file not found at {pdf_path}\")\n",
        "        return db\n",
        "\n",
        "    db_exists = os.path.exists(persist_directory) and bool(os.listdir(persist_directory))\n",
        "    if db_exists:\n",
        "        print(f\"\\n Database found at {persist_directory}.\")\n",
        "        db = Chroma(persist_directory=persist_directory, embedding_function=embeddings)\n",
        "\n",
        "        # Check if any document with the same source path already exists:\n",
        "        existing_docs = db.get(include=['metadatas'])\n",
        "        for existing_doc in existing_docs['metadatas']:\n",
        "            if existing_doc.get('source') == pdf_path:\n",
        "                print(f\"\\n PDF file '{pdf_path}' already exists in the database. Skipping.\")\n",
        "                return db # Return db even if skipping addition\n",
        "        print(f\"\\n Adding new documents.\")\n",
        "    else:\n",
        "        print(f\"\\n Database not found. Creating a new database.\")\n",
        "\n",
        "    print(f\"Processing {pdf_path}...\")\n",
        "    documents = PyPDFLoader(pdf_path).load()\n",
        "    chunks = RecursiveCharacterTextSplitter(chunk_size=1000, chunk_overlap=200).split_documents(documents)\n",
        "\n",
        "    if len(chunks) > 1:\n",
        "        print(\"\\n chunk 0 : \" + str(chunks[0]))\n",
        "        print(\"\\n chunk 1 : \" + str(chunks[1]))\n",
        "\n",
        "    # Add the new chunks to the database (either new or existing)\n",
        "    if db_exists:\n",
        "        db.add_documents(chunks)\n",
        "    else:\n",
        "        db = Chroma.from_documents(chunks, embeddings, persist_directory=persist_directory)\n",
        "\n",
        "\n",
        "    db.persist()\n",
        "    print(f\"\\n Successfully processed {pdf_path} and stored {len(chunks)} embeddings in {persist_directory}\")\n",
        "    return db # Return the updated or newly created db object\n",
        "\n",
        "print(\"The function ingest() is created.\")"
      ],
      "execution_count": 7,
      "outputs": [
        {
          "output_type": "stream",
          "name": "stdout",
          "text": [
            "The function ingest() is created.\n"
          ]
        }
      ]
    },
    {
      "cell_type": "code",
      "source": [
        "# Set up the LLM\n",
        "\n",
        "try:\n",
        "    from google.colab import userdata\n",
        "    GOOGLE_API_KEY = userdata.get('GOOGLE_API_KEY')\n",
        "    # genai.configure(api_key=GOOGLE_API_KEY) # No need to configure genai separately if using ChatGoogleGenerativeAI\n",
        "except userdata.SecretNotFoundError:\n",
        "    print(\"Error: GOOGLE_API_KEY not found in Colab secrets.\")\n",
        "    GOOGLE_API_KEY = None # Set to None to avoid errors later\n",
        "    import sys\n",
        "    sys.exit(1)\n",
        "\n",
        "from langchain_google_genai import ChatGoogleGenerativeAI\n",
        "llm = ChatGoogleGenerativeAI(model=\"gemini-1.5-flash\", google_api_key=GOOGLE_API_KEY)\n",
        "\n",
        "print(\"LLM is set to Gemini.\")"
      ],
      "metadata": {
        "id": "dMFIt03IaAX0",
        "colab": {
          "base_uri": "https://localhost:8080/"
        },
        "outputId": "b3edf77f-d3a1-4536-a8df-250265059e8d"
      },
      "execution_count": 8,
      "outputs": [
        {
          "output_type": "stream",
          "name": "stdout",
          "text": [
            "LLM is set to Gemini.\n"
          ]
        }
      ]
    },
    {
      "cell_type": "code",
      "metadata": {
        "id": "2fc5c6ca",
        "colab": {
          "base_uri": "https://localhost:8080/"
        },
        "outputId": "a3ac7b75-a1b3-4406-f1ea-1d1b06940d2d"
      },
      "source": [
        "# Set up the retrieve function\n",
        "\n",
        "def retrieve(question: str):\n",
        "\n",
        "    retriever = db.as_retriever(search_kwargs={\"k\": 4})\n",
        "    docs = retriever.get_relevant_documents(question)\n",
        "\n",
        "    # Print each chunk with its page number and file name\n",
        "    print(\"Retrieved Document Chunks: \")\n",
        "    for i, doc in enumerate(docs):\n",
        "        source = doc.metadata.get('source', 'N/A')\n",
        "        page = doc.metadata.get('page', 'N/A')\n",
        "        print(f\"--- Chunk {i+1} from {source} (Page {page}) ---\")\n",
        "        print(doc.page_content)\n",
        "        print(\"-\" * 40) # Separator\n",
        "\n",
        "    # Combine the retrieved chunks as the context\n",
        "    context = \"\\n\".join([doc.page_content for doc in docs])\n",
        "\n",
        "    import textwrap\n",
        "    prompt = textwrap.dedent(f\"\"\"\n",
        "        Answer the question based on the following context. If the question cannot be answered using the information in the context, only reply 'I don't know'.\n",
        "\n",
        "        Question: {question}\n",
        "\n",
        "        Context: {context}\n",
        "\n",
        "        \"\"\")\n",
        "\n",
        "    print (\"\\n Generated Prompt: \")\n",
        "    print (prompt)\n",
        "    print(\"\\n Answer: \")\n",
        "    answer = llm.invoke(prompt)\n",
        "    print(answer.content)\n",
        "\n",
        "print(\"The function retrieve() is created.\")"
      ],
      "execution_count": 9,
      "outputs": [
        {
          "output_type": "stream",
          "name": "stdout",
          "text": [
            "The function retrieve() is created.\n"
          ]
        }
      ]
    },
    {
      "cell_type": "code",
      "source": [
        "# Ingest a PDF\n",
        "\n",
        "file_path = input(\"Your File Path: \")\n",
        "\n",
        "db = ingest(file_path)\n",
        "\n",
        "if db:\n",
        "    collection = db.get()\n",
        "    print(f\"\\nNumber of total embedding vectors in the database: {len(collection['ids'])}\")\n",
        "else:\n",
        "    print(\"File does not exist!\")"
      ],
      "metadata": {
        "id": "71P4RbFTr5fA",
        "collapsed": true,
        "colab": {
          "base_uri": "https://localhost:8080/"
        },
        "outputId": "1f17930a-95a8-4221-c74a-10238083683a"
      },
      "execution_count": 13,
      "outputs": [
        {
          "output_type": "stream",
          "name": "stdout",
          "text": [
            "Your File Path: /content/Form-8-K.pdf\n",
            "\n",
            " Database found at ./chroma_db.\n",
            "\n",
            " PDF file '/content/Form-8-K.pdf' already exists in the database. Skipping.\n",
            "\n",
            "Number of total embedding vectors in the database: 460\n"
          ]
        }
      ]
    },
    {
      "cell_type": "code",
      "metadata": {
        "colab": {
          "base_uri": "https://localhost:8080/"
        },
        "id": "32819cf4",
        "outputId": "f13bf6dd-0676-4224-a1b2-7f623da7e650",
        "collapsed": true
      },
      "source": [
        "# Answer a question\n",
        "\n",
        "query = input(\"Your Question: \")\n",
        "retrieve(query)"
      ],
      "execution_count": 14,
      "outputs": [
        {
          "name": "stdout",
          "output_type": "stream",
          "text": [
            "Your Question: Are there any specific covenants requiring the target company to operate in the \"ordinary course of business\" before closing?\n"
          ]
        },
        {
          "output_type": "stream",
          "name": "stderr",
          "text": [
            "/tmp/ipython-input-960854050.py:6: LangChainDeprecationWarning: The method `BaseRetriever.get_relevant_documents` was deprecated in langchain-core 0.1.46 and will be removed in 1.0. Use :meth:`~invoke` instead.\n",
            "  docs = retriever.get_relevant_documents(question)\n"
          ]
        },
        {
          "output_type": "stream",
          "name": "stdout",
          "text": [
            "Retrieved Document Chunks: \n",
            "--- Chunk 1 from /content/SEC.pdf (Page 55) ---\n",
            "agreement within the meaning of Section 7121 of the Code (or any similar provision of state, local or\n",
            "foreign Law), settle or compromise any material Tax liability or refund, consent to any extension or\n",
            "waiver of any limitation period with respect to any material claim or assessment for Taxes, request any\n",
            "ruling or similar guidance with respect to Taxes from a Governmental Entity, or enter into any power of\n",
            "attorney with respect to Taxes that will not terminate as of or before the Closing Date;\n",
            "(r)    file or institute a bankruptcy, adopt a plan or agreement of complete or partial liquidation,\n",
            "dissolution, merger, consolidation, restructuring, recapitalization or other reorganization (other than\n",
            "among wholly owned Subsidiaries of the Company);\n",
            "(s)    terminate or amend in any material respect any Material Contract or other than in the\n",
            "ordinary course of business consistent with past practice, enter into or submit a Bid for any Contract that\n",
            "would be a Material Contract;\n",
            "----------------------------------------\n",
            "--- Chunk 2 from /content/SEC.pdf (Page 51) ---\n",
            "the usual, regular and ordinary course in substantially the same manner as previously conducted and, to the\n",
            "extent consistent therewith, use reasonable best efforts to preserve the Company Business substantially intact,\n",
            "maintain all material Governmental Approvals of the Company Business and keep relationships with customers,\n",
            "suppliers, licensors, licensees, distributors and others having significant business dealings with the Company\n",
            "Business, in each case, consistent with past practice. In addition, and without limiting the generality of the\n",
            "foregoing, except for matters set forth in Section 5.01 of the Company Disclosure Letter or otherwise expressly\n",
            "permitted or contemplated by this Agreement or required by applicable Law, from the date hereof to the\n",
            "Effective Time, the Company shall not, and shall not permit any of its Subsidiaries to, do any of the following\n",
            "without the prior written consent of Parent (such consent not to be unreasonably withheld, delayed or\n",
            "conditioned):\n",
            "44\n",
            "----------------------------------------\n",
            "--- Chunk 3 from /content/SEC.pdf (Page 51) ---\n",
            "of the payment of the Merger Consideration out of proceeds derived from criminal activity or activity or\n",
            "transactions in violation of, or that would otherwise cause any Person to be in violation of any Anti-Money\n",
            "Laundering Laws, Trade Control Laws, or the FCPA.\n",
            "ARTICLE V\n",
            "Covenants Relating to Conduct of Business\n",
            "SECTION 5.01.    Conduct of Business by the Company. Except (i) for matters set forth in\n",
            "Section 5.01 of the Company Disclosure Letter, (ii) as otherwise expressly permitted or contemplated by this\n",
            "Agreement, (iii) as required by applicable Law or (iv) as consented to in writing by Parent (such consent not to\n",
            "be unreasonably withheld, delayed or conditioned), from the date hereof to the Effective Time, the Company\n",
            "shall, and shall cause each of its Subsidiaries to, use reasonable best efforts to conduct the Company Business in\n",
            "the usual, regular and ordinary course in substantially the same manner as previously conducted and, to the\n",
            "----------------------------------------\n",
            "--- Chunk 4 from /content/SEC.pdf (Page 69) ---\n",
            "and its Representatives other than Parent (and its Representatives) and any Excluded Party (and its\n",
            "Representatives) (for so long as such Person or group is an Excluded Party).\n",
            "(c)    Except as may relate to any Excluded Party (and its Representatives) (for so long as such\n",
            "Person or group is an Excluded Party) in accordance with and subject to this Section 6.10, or as expressly\n",
            "permitted by this Section 6.10, from and after the No-Shop Period Start Date until the Effective Time or, if\n",
            "earlier, the termination of this Agreement in accordance with Article VIII, the Company shall not (and shall not\n",
            "publicly propose to), nor shall it authorize or permit any of its Subsidiaries to, and shall instruct that its\n",
            "Representatives and Subsidiaries do not (and do not publicly propose to), and shall cause its and its Subsidiaries’\n",
            "respective Representatives not to, directly or indirectly, (i) solicit, initiate, induce or knowingly encourage\n",
            "----------------------------------------\n",
            "\n",
            " Generated Prompt: \n",
            "\n",
            "        Answer the question based on the following context. If the question cannot be answered using the information in the context, only reply 'I don't know'.\n",
            "\n",
            "        Question: Are there any specific covenants requiring the target company to operate in the \"ordinary course of business\" before closing?\n",
            "\n",
            "        Context: agreement within the meaning of Section 7121 of the Code (or any similar provision of state, local or\n",
            "foreign Law), settle or compromise any material Tax liability or refund, consent to any extension or\n",
            "waiver of any limitation period with respect to any material claim or assessment for Taxes, request any\n",
            "ruling or similar guidance with respect to Taxes from a Governmental Entity, or enter into any power of\n",
            "attorney with respect to Taxes that will not terminate as of or before the Closing Date;\n",
            "(r)    file or institute a bankruptcy, adopt a plan or agreement of complete or partial liquidation,\n",
            "dissolution, merger, consolidation, restructuring, recapitalization or other reorganization (other than\n",
            "among wholly owned Subsidiaries of the Company);\n",
            "(s)    terminate or amend in any material respect any Material Contract or other than in the\n",
            "ordinary course of business consistent with past practice, enter into or submit a Bid for any Contract that\n",
            "would be a Material Contract;\n",
            "the usual, regular and ordinary course in substantially the same manner as previously conducted and, to the\n",
            "extent consistent therewith, use reasonable best efforts to preserve the Company Business substantially intact,\n",
            "maintain all material Governmental Approvals of the Company Business and keep relationships with customers,\n",
            "suppliers, licensors, licensees, distributors and others having significant business dealings with the Company\n",
            "Business, in each case, consistent with past practice. In addition, and without limiting the generality of the\n",
            "foregoing, except for matters set forth in Section 5.01 of the Company Disclosure Letter or otherwise expressly\n",
            "permitted or contemplated by this Agreement or required by applicable Law, from the date hereof to the\n",
            "Effective Time, the Company shall not, and shall not permit any of its Subsidiaries to, do any of the following\n",
            "without the prior written consent of Parent (such consent not to be unreasonably withheld, delayed or\n",
            "conditioned):\n",
            "44\n",
            "of the payment of the Merger Consideration out of proceeds derived from criminal activity or activity or\n",
            "transactions in violation of, or that would otherwise cause any Person to be in violation of any Anti-Money\n",
            "Laundering Laws, Trade Control Laws, or the FCPA.\n",
            "ARTICLE V\n",
            "Covenants Relating to Conduct of Business\n",
            "SECTION 5.01.    Conduct of Business by the Company. Except (i) for matters set forth in\n",
            "Section 5.01 of the Company Disclosure Letter, (ii) as otherwise expressly permitted or contemplated by this\n",
            "Agreement, (iii) as required by applicable Law or (iv) as consented to in writing by Parent (such consent not to\n",
            "be unreasonably withheld, delayed or conditioned), from the date hereof to the Effective Time, the Company\n",
            "shall, and shall cause each of its Subsidiaries to, use reasonable best efforts to conduct the Company Business in\n",
            "the usual, regular and ordinary course in substantially the same manner as previously conducted and, to the\n",
            "and its Representatives other than Parent (and its Representatives) and any Excluded Party (and its\n",
            "Representatives) (for so long as such Person or group is an Excluded Party).\n",
            "(c)    Except as may relate to any Excluded Party (and its Representatives) (for so long as such\n",
            "Person or group is an Excluded Party) in accordance with and subject to this Section 6.10, or as expressly\n",
            "permitted by this Section 6.10, from and after the No-Shop Period Start Date until the Effective Time or, if\n",
            "earlier, the termination of this Agreement in accordance with Article VIII, the Company shall not (and shall not\n",
            "publicly propose to), nor shall it authorize or permit any of its Subsidiaries to, and shall instruct that its\n",
            "Representatives and Subsidiaries do not (and do not publicly propose to), and shall cause its and its Subsidiaries’\n",
            "respective Representatives not to, directly or indirectly, (i) solicit, initiate, induce or knowingly encourage\n",
            "\n",
            "\n",
            "\n",
            " Answer: \n",
            "Yes, there are covenants requiring the target company to operate in the ordinary course of business before closing.  Section 5.01 states that the company must use reasonable best efforts to conduct business in the usual, regular and ordinary course in substantially the same manner as previously conducted.  This is further qualified by exceptions for matters in the Company Disclosure Letter, those expressly permitted or contemplated by the agreement, those required by law, or those consented to by Parent.\n"
          ]
        }
      ]
    }
  ]
}